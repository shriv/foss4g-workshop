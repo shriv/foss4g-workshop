{
 "cells": [
  {
   "cell_type": "code",
   "execution_count": 1,
   "metadata": {},
   "outputs": [],
   "source": [
    "import pandas as pd\n",
    "from shapely.geometry import Point, LineString, Polygon, MultiPoint\n",
    "import geopandas as gpd\n",
    "import matplotlib.pyplot as plt\n",
    "import networkx as nx\n",
    "\n",
    "import requests\n"
   ]
  },
  {
   "cell_type": "markdown",
   "metadata": {},
   "source": [
    "# Urban geospatial connectivity\n",
    "This workshop takes an interested citizen through a series of analyses based on geospatial networks. The analyses are intended to showcase how open data and network algorithms can be used to understand the structure of urban environments and infer whether they work for us, the citizens. "
   ]
  },
  {
   "cell_type": "markdown",
   "metadata": {},
   "source": [
    "## Understanding the city with networks\n",
    "- Basic routing on a network\n",
    "    - How did you get to the conference?\n",
    "- From a single route to many routes\n",
    "    - Accessibility analysis with Pandana\n",
    "- How walkable is Wellington?\n",
    "    - Using playgrounds as a proxy for local walkability\n",
    "    - Using street gradients to change walking times / distances\n",
    "    - Using spatial filters to look at walkability by suburb\n",
    "- Catchment areas of an amenity\n",
    "    - Converting accessibility to isochrones\n",
    "- What are the most connected suburbs?\n",
    "    - Using network metrics to define connectivity\n",
    "    - Best connected areas for walking\n",
    "    - Well connected regions of public transit"
   ]
  },
  {
   "cell_type": "markdown",
   "metadata": {},
   "source": [
    "# Theoretical Foundations\n",
    "The groundwork for the analyses requires a minimal understanding of:\n",
    "\n",
    "| Components | Topics |\n",
    "|:----------:|:------:|\n",
    "|data definitions | attribute table |\n",
    "| | spatial primitives| \n",
    "| | networks (graphs)|\n",
    "|data structures | dataframes | \n",
    "| | spatial dataframes|\n",
    "| | graph dataframes| \n"
   ]
  },
  {
   "cell_type": "markdown",
   "metadata": {},
   "source": [
    "## Attribute table\n",
    "- row per entity with attributes in columns\n",
    "- Table of WCC playgrounds\n",
    "    - row per playground\n",
    "    - attributes: suburb, location, playground name, housing"
   ]
  },
  {
   "cell_type": "code",
   "execution_count": 2,
   "metadata": {},
   "outputs": [
    {
     "data": {
      "text/html": [
       "<div>\n",
       "<style scoped>\n",
       "    .dataframe tbody tr th:only-of-type {\n",
       "        vertical-align: middle;\n",
       "    }\n",
       "\n",
       "    .dataframe tbody tr th {\n",
       "        vertical-align: top;\n",
       "    }\n",
       "\n",
       "    .dataframe thead th {\n",
       "        text-align: right;\n",
       "    }\n",
       "</style>\n",
       "<table border=\"1\" class=\"dataframe\">\n",
       "  <thead>\n",
       "    <tr style=\"text-align: right;\">\n",
       "      <th></th>\n",
       "      <th>OBJECTID</th>\n",
       "      <th>location</th>\n",
       "      <th>suburb</th>\n",
       "      <th>playground</th>\n",
       "      <th>Housing</th>\n",
       "      <th>geometry</th>\n",
       "    </tr>\n",
       "  </thead>\n",
       "  <tbody>\n",
       "    <tr>\n",
       "      <td>0</td>\n",
       "      <td>1</td>\n",
       "      <td>Salamanca Road</td>\n",
       "      <td>Kelburn</td>\n",
       "      <td>Kelburn Park Play Area</td>\n",
       "      <td>No</td>\n",
       "      <td>POINT (174.76973 -41.28487)</td>\n",
       "    </tr>\n",
       "    <tr>\n",
       "      <td>1</td>\n",
       "      <td>2</td>\n",
       "      <td>Farnham Street</td>\n",
       "      <td>Mornington</td>\n",
       "      <td>Farnham Street Play Area</td>\n",
       "      <td>No</td>\n",
       "      <td>POINT (174.76947 -41.31994)</td>\n",
       "    </tr>\n",
       "    <tr>\n",
       "      <td>2</td>\n",
       "      <td>3</td>\n",
       "      <td>Harrison Street</td>\n",
       "      <td>Brooklyn</td>\n",
       "      <td>Harrison Play Area</td>\n",
       "      <td>No</td>\n",
       "      <td>POINT (174.76482 -41.30601)</td>\n",
       "    </tr>\n",
       "    <tr>\n",
       "      <td>3</td>\n",
       "      <td>4</td>\n",
       "      <td>Jeypore Street</td>\n",
       "      <td>Berhampore</td>\n",
       "      <td>Jeypore Street Play Area</td>\n",
       "      <td>No</td>\n",
       "      <td>POINT (174.77340 -41.32199)</td>\n",
       "    </tr>\n",
       "    <tr>\n",
       "      <td>4</td>\n",
       "      <td>5</td>\n",
       "      <td>Brooklyn Road</td>\n",
       "      <td>Brooklyn</td>\n",
       "      <td>Central Park Play Area</td>\n",
       "      <td>No</td>\n",
       "      <td>POINT (174.76810 -41.29968)</td>\n",
       "    </tr>\n",
       "  </tbody>\n",
       "</table>\n",
       "</div>"
      ],
      "text/plain": [
       "   OBJECTID         location      suburb                playground Housing  \\\n",
       "0         1   Salamanca Road     Kelburn    Kelburn Park Play Area      No   \n",
       "1         2   Farnham Street  Mornington  Farnham Street Play Area      No   \n",
       "2         3  Harrison Street    Brooklyn        Harrison Play Area      No   \n",
       "3         4   Jeypore Street  Berhampore  Jeypore Street Play Area      No   \n",
       "4         5    Brooklyn Road    Brooklyn    Central Park Play Area      No   \n",
       "\n",
       "                      geometry  \n",
       "0  POINT (174.76973 -41.28487)  \n",
       "1  POINT (174.76947 -41.31994)  \n",
       "2  POINT (174.76482 -41.30601)  \n",
       "3  POINT (174.77340 -41.32199)  \n",
       "4  POINT (174.76810 -41.29968)  "
      ]
     },
     "execution_count": 2,
     "metadata": {},
     "output_type": "execute_result"
    }
   ],
   "source": [
    "wcc_playgrounds = gpd.read_file('zip://../data/WCC_Playgrounds.zip')\n",
    "wcc_playgrounds.head()"
   ]
  },
  {
   "cell_type": "markdown",
   "metadata": {},
   "source": [
    "## Spatial primitives\n",
    "- POINT\n",
    "- LINE\n",
    "- POLYGON\n",
    "    "
   ]
  },
  {
   "cell_type": "code",
   "execution_count": 41,
   "metadata": {},
   "outputs": [
    {
     "data": {
      "image/svg+xml": [
       "<svg xmlns=\"http://www.w3.org/2000/svg\" xmlns:xlink=\"http://www.w3.org/1999/xlink\" width=\"100.0\" height=\"100.0\" viewBox=\"0.0 0.0 2.0 2.0\" preserveAspectRatio=\"xMinYMin meet\"><g transform=\"matrix(1,0,0,-1,0,2.0)\"><circle cx=\"1.0\" cy=\"1.0\" r=\"0.06\" stroke=\"#555555\" stroke-width=\"0.02\" fill=\"#66cc99\" opacity=\"0.6\" /></g></svg>"
      ],
      "text/plain": [
       "<shapely.geometry.point.Point at 0x7fe2204f8860>"
      ]
     },
     "execution_count": 41,
     "metadata": {},
     "output_type": "execute_result"
    }
   ],
   "source": [
    "point = Point((0, 0))\n",
    "point"
   ]
  },
  {
   "cell_type": "code",
   "execution_count": 37,
   "metadata": {},
   "outputs": [
    {
     "data": {
      "image/svg+xml": [
       "<svg xmlns=\"http://www.w3.org/2000/svg\" xmlns:xlink=\"http://www.w3.org/1999/xlink\" width=\"100.0\" height=\"100.0\" viewBox=\"-0.04 -0.04 1.08 1.08\" preserveAspectRatio=\"xMinYMin meet\"><g transform=\"matrix(1,0,0,-1,0,1.0)\"><polyline fill=\"none\" stroke=\"#66cc99\" stroke-width=\"0.0216\" points=\"0.0,0.0 1.0,1.0\" opacity=\"0.8\" /></g></svg>"
      ],
      "text/plain": [
       "<shapely.geometry.linestring.LineString at 0x7fe2204f8518>"
      ]
     },
     "execution_count": 37,
     "metadata": {},
     "output_type": "execute_result"
    }
   ],
   "source": [
    "line = LineString([(0, 0), (1, 1)])\n",
    "line"
   ]
  },
  {
   "cell_type": "code",
   "execution_count": 43,
   "metadata": {},
   "outputs": [
    {
     "data": {
      "image/svg+xml": [
       "<svg xmlns=\"http://www.w3.org/2000/svg\" xmlns:xlink=\"http://www.w3.org/1999/xlink\" width=\"100.0\" height=\"100.0\" viewBox=\"-0.04 -0.04 1.08 1.08\" preserveAspectRatio=\"xMinYMin meet\"><g transform=\"matrix(1,0,0,-1,0,1.0)\"><path fill-rule=\"evenodd\" fill=\"#66cc99\" stroke=\"#555555\" stroke-width=\"0.0216\" opacity=\"0.6\" d=\"M 0.0,0.0 L 1.0,1.0 L 1.0,0.0 L 0.0,0.0 z\" /></g></svg>"
      ],
      "text/plain": [
       "<shapely.geometry.polygon.Polygon at 0x7fe2204f8f28>"
      ]
     },
     "execution_count": 43,
     "metadata": {},
     "output_type": "execute_result"
    }
   ],
   "source": [
    "polygon = Polygon([(0, 0), (1, 1), (1, 0)])\n",
    "polygon"
   ]
  },
  {
   "cell_type": "markdown",
   "metadata": {},
   "source": [
    "## More complex spatial objects\n",
    "- MultiPoint\n",
    "- MultiLineString\n",
    "- MultiPolygon    "
   ]
  },
  {
   "cell_type": "code",
   "execution_count": 46,
   "metadata": {},
   "outputs": [
    {
     "data": {
      "image/svg+xml": [
       "<svg xmlns=\"http://www.w3.org/2000/svg\" xmlns:xlink=\"http://www.w3.org/1999/xlink\" width=\"100.0\" height=\"100.0\" viewBox=\"-0.04 -0.04 1.08 1.08\" preserveAspectRatio=\"xMinYMin meet\"><g transform=\"matrix(1,0,0,-1,0,1.0)\"><g><circle cx=\"0.0\" cy=\"0.0\" r=\"0.0324\" stroke=\"#555555\" stroke-width=\"0.0108\" fill=\"#66cc99\" opacity=\"0.6\" /><circle cx=\"1.0\" cy=\"1.0\" r=\"0.0324\" stroke=\"#555555\" stroke-width=\"0.0108\" fill=\"#66cc99\" opacity=\"0.6\" /></g></g></svg>"
      ],
      "text/plain": [
       "<shapely.geometry.multipoint.MultiPoint at 0x7fe2204fc198>"
      ]
     },
     "execution_count": 46,
     "metadata": {},
     "output_type": "execute_result"
    }
   ],
   "source": [
    "multipoints = MultiPoint([(0, 0), (1, 1)])\n",
    "multipoints"
   ]
  },
  {
   "cell_type": "markdown",
   "metadata": {},
   "source": [
    "## Networks\n",
    "- Nodes\n",
    "- Edges\n",
    "    "
   ]
  },
  {
   "cell_type": "code",
   "execution_count": 63,
   "metadata": {},
   "outputs": [
    {
     "data": {
      "image/png": "[encoded data removed]",
      "text/plain": [
       "<Figure size 432x288 with 1 Axes>"
      ]
     },
     "metadata": {},
     "output_type": "display_data"
    }
   ],
   "source": [
    "G = nx.Graph()\n",
    "\n",
    "G.add_edge('a', 'b', weight=6)\n",
    "G.add_edge('a', 'c', weight=2)\n",
    "G.add_edge('c', 'd', weight=1)\n",
    "G.add_edge('c', 'e', weight=7)\n",
    "G.add_edge('c', 'f', weight=9)\n",
    "G.add_edge('a', 'd', weight=3)\n",
    "\n",
    "pos = nx.spring_layout(G)  # positions for all nodes\n",
    "\n",
    "# nodes\n",
    "nx.draw_networkx_nodes(G, pos, node_size=700)\n",
    "\n",
    "# edges\n",
    "nx.draw_networkx_edges(G, pos,  width=6)\n",
    "\n",
    "plt.axis('off')\n",
    "plt.show()"
   ]
  },
  {
   "cell_type": "markdown",
   "metadata": {},
   "source": [
    "Both nodes and edges can have associated attributes. \n",
    "- Nodes\n",
    "    - magnitude\n",
    "    - class\n",
    "- Edges\n",
    "    - weights\n",
    "    - class\n",
    "    - direction"
   ]
  },
  {
   "cell_type": "code",
   "execution_count": 62,
   "metadata": {},
   "outputs": [
    {
     "data": {
      "text/plain": [
       "<matplotlib.collections.LineCollection at 0x7fe21e0854e0>"
      ]
     },
     "execution_count": 62,
     "metadata": {},
     "output_type": "execute_result"
    },
    {
     "data": {
      "image/png": "[encoded data removed]",
      "text/plain": [
       "<Figure size 432x288 with 1 Axes>"
      ]
     },
     "metadata": {},
     "output_type": "display_data"
    }
   ],
   "source": [
    "# nodes\n",
    "nx.draw_networkx_nodes(G, pos, node_size=700)\n",
    "\n",
    "# edges\n",
    "edges = G.edges()\n",
    "weights = [G[u][v]['weight'] for u,v in edges]\n",
    "nx.draw_networkx_edges(G, pos, width=weights)"
   ]
  },
  {
   "cell_type": "markdown",
   "metadata": {},
   "source": [
    "# Data Science Foundations"
   ]
  },
  {
   "cell_type": "markdown",
   "metadata": {},
   "source": [
    "| Components | Topics |\n",
    "|:----------:|:------:|\n",
    "| data retrieval / load | csv, excel | \n",
    "| | Overpass API|\n",
    "| |  osmnx| \n",
    "| data wrangling | attributes | \n",
    "| | spatial data\n",
    "| | graph data | \n",
    "| data visualisation | matplotlib | \n",
    "| | seaborn | \n",
    "| | folium | \n"
   ]
  },
  {
   "cell_type": "markdown",
   "metadata": {},
   "source": [
    "## Data retrieval"
   ]
  },
  {
   "cell_type": "markdown",
   "metadata": {},
   "source": [
    "### From file"
   ]
  },
  {
   "cell_type": "code",
   "execution_count": 1,
   "metadata": {},
   "outputs": [],
   "source": [
    "# Read csv\n",
    "\n"
   ]
  },
  {
   "cell_type": "code",
   "execution_count": 3,
   "metadata": {},
   "outputs": [
    {
     "data": {
      "text/html": [
       "<div>\n",
       "<style scoped>\n",
       "    .dataframe tbody tr th:only-of-type {\n",
       "        vertical-align: middle;\n",
       "    }\n",
       "\n",
       "    .dataframe tbody tr th {\n",
       "        vertical-align: top;\n",
       "    }\n",
       "\n",
       "    .dataframe thead th {\n",
       "        text-align: right;\n",
       "    }\n",
       "</style>\n",
       "<table border=\"1\" class=\"dataframe\">\n",
       "  <thead>\n",
       "    <tr style=\"text-align: right;\">\n",
       "      <th></th>\n",
       "      <th>OBJECTID</th>\n",
       "      <th>location</th>\n",
       "      <th>suburb</th>\n",
       "      <th>playground</th>\n",
       "      <th>Housing</th>\n",
       "      <th>geometry</th>\n",
       "    </tr>\n",
       "  </thead>\n",
       "  <tbody>\n",
       "    <tr>\n",
       "      <td>0</td>\n",
       "      <td>1</td>\n",
       "      <td>Salamanca Road</td>\n",
       "      <td>Kelburn</td>\n",
       "      <td>Kelburn Park Play Area</td>\n",
       "      <td>No</td>\n",
       "      <td>POINT (174.76973 -41.28487)</td>\n",
       "    </tr>\n",
       "    <tr>\n",
       "      <td>1</td>\n",
       "      <td>2</td>\n",
       "      <td>Farnham Street</td>\n",
       "      <td>Mornington</td>\n",
       "      <td>Farnham Street Play Area</td>\n",
       "      <td>No</td>\n",
       "      <td>POINT (174.76947 -41.31994)</td>\n",
       "    </tr>\n",
       "    <tr>\n",
       "      <td>2</td>\n",
       "      <td>3</td>\n",
       "      <td>Harrison Street</td>\n",
       "      <td>Brooklyn</td>\n",
       "      <td>Harrison Play Area</td>\n",
       "      <td>No</td>\n",
       "      <td>POINT (174.76482 -41.30601)</td>\n",
       "    </tr>\n",
       "    <tr>\n",
       "      <td>3</td>\n",
       "      <td>4</td>\n",
       "      <td>Jeypore Street</td>\n",
       "      <td>Berhampore</td>\n",
       "      <td>Jeypore Street Play Area</td>\n",
       "      <td>No</td>\n",
       "      <td>POINT (174.77340 -41.32199)</td>\n",
       "    </tr>\n",
       "    <tr>\n",
       "      <td>4</td>\n",
       "      <td>5</td>\n",
       "      <td>Brooklyn Road</td>\n",
       "      <td>Brooklyn</td>\n",
       "      <td>Central Park Play Area</td>\n",
       "      <td>No</td>\n",
       "      <td>POINT (174.76810 -41.29968)</td>\n",
       "    </tr>\n",
       "  </tbody>\n",
       "</table>\n",
       "</div>"
      ],
      "text/plain": [
       "   OBJECTID         location      suburb                playground Housing  \\\n",
       "0         1   Salamanca Road     Kelburn    Kelburn Park Play Area      No   \n",
       "1         2   Farnham Street  Mornington  Farnham Street Play Area      No   \n",
       "2         3  Harrison Street    Brooklyn        Harrison Play Area      No   \n",
       "3         4   Jeypore Street  Berhampore  Jeypore Street Play Area      No   \n",
       "4         5    Brooklyn Road    Brooklyn    Central Park Play Area      No   \n",
       "\n",
       "                      geometry  \n",
       "0  POINT (174.76973 -41.28487)  \n",
       "1  POINT (174.76947 -41.31994)  \n",
       "2  POINT (174.76482 -41.30601)  \n",
       "3  POINT (174.77340 -41.32199)  \n",
       "4  POINT (174.76810 -41.29968)  "
      ]
     },
     "execution_count": 3,
     "metadata": {},
     "output_type": "execute_result"
    }
   ],
   "source": [
    "# Read geospatial data\n",
    "wcc_playgrounds = gpd.read_file('zip://../data/WCC_Playgrounds.zip')\n",
    "wcc_playgrounds.head()"
   ]
  },
  {
   "cell_type": "markdown",
   "metadata": {},
   "source": [
    "### Overpass API\n",
    "Overpass is the read-only API for OpenStreetMap (OSM). \n",
    "> Overpass API allows you to query for OSM data by your own search criteria. For this purpose, it has two specifically crafted query languages: Overpass XML, and Overpass QL. \n",
    "\n",
    "For this workshop, we will only compose simple queries with Overpass QL. Since queries are strings, we can put them together programmatically using the expected structure. The query strings can be tested before running locally on: https://overpass-turbo.eu/"
   ]
  },
  {
   "cell_type": "markdown",
   "metadata": {},
   "source": [
    "Query components:\n",
    "- **Output format**: JSON, XML\n",
    "- **Bounding box**: the area where we want the search performed. \n",
    "- **OSM data primitives**: ways, nodes, tags, relations.\n",
    "\n",
    "The data primities of OSM have an intrinsic hierarchy with nodes being the root primitive. The primitives are split between spatial objects and object metadata.  \n",
    "\n",
    "**Spatial objects**\n",
    "- **Nodes**: Single point with explicit [lat, lon] coordinates.\n",
    "- **Ways**: Collection of nodes that defines a polygon (e.g. a building) or polyline (e.g. a road). \n",
    "\n",
    "**Metadata**\n",
    "- **Relations**: Represent the relationship of existing nodes and ways\n",
    "- **Tags**: Metadata stored as key-value pairs. \n",
    "\n",
    "The main primitives we will used are nodes and tags. The nodes give the geolocation while we use the tags to filter specifically for the amenity of interest: fuel stations. \n",
    "\n",
    "\n",
    "**Resources** \n",
    "- More information about the entities of OpenStreetMap can be found [here](https://en.wikipedia.org/wiki/OpenStreetMap#Operation). \n",
    "- Full tutorial about the Overpass API language [here](https://wiki.openstreetmap.org/wiki/Overpass_API/Language_Guide)"
   ]
  },
  {
   "cell_type": "markdown",
   "metadata": {},
   "source": [
    "#### Bounding Box\n",
    "![](../assets/bounding-box-selection.png)"
   ]
  },
  {
   "cell_type": "code",
   "execution_count": 5,
   "metadata": {},
   "outputs": [],
   "source": [
    "# Define bounding box (W, S, E, N) for the area of Wellington we're interested in\n",
    "# Copied from http://boundingbox.klokantech.com/\n",
    "general_bbox = [174.5813,-41.4552,175.0722,-41.1527]\n",
    "\n",
    "# Separate out the bounding box list into 4 vertices. \n",
    "south = general_bbox[1]\n",
    "west = general_bbox[0]\n",
    "north = general_bbox[3]\n",
    "east = general_bbox[2]\n",
    "\n",
    "# Set OSM bounding box\n",
    "osm_bbox = [south, west, north, east]"
   ]
  },
  {
   "cell_type": "markdown",
   "metadata": {},
   "source": [
    "#### Construct Overpass query string to get fuel stations"
   ]
  },
  {
   "cell_type": "code",
   "execution_count": 11,
   "metadata": {},
   "outputs": [
    {
     "name": "stdout",
     "output_type": "stream",
     "text": [
      "[out:json][timeout:60];(node[\"amenity\"=\"fuel\"](-41.4552,174.5813,-41.1527,175.0722););out body;>;out skel qt;\n"
     ]
    }
   ],
   "source": [
    "# OSM data\n",
    "tags = ['fuel'] # in list for loop\n",
    "objects = ['node'] # in list for loop: any of way, node, relation\n",
    "entity = \"amenity\" # Query currently only supports one type of entity at a time\n",
    "\n",
    "# Generate Query string\n",
    "compactOverpassQLstring = '[out:json][timeout:60];('\n",
    "for tag in tags:\n",
    "    for obj in objects:\n",
    "        compactOverpassQLstring += '%s[\"%s\"=\"%s\"](%s,%s,%s,%s);' % (obj, entity, tag,\n",
    "                                                                    osm_bbox[0],\n",
    "                                                                    osm_bbox[1],\n",
    "                                                                    osm_bbox[2],\n",
    "                                                                    osm_bbox[3])\n",
    "compactOverpassQLstring += ');out body;>;out skel qt;'    \n",
    "\n",
    "# look at query\n",
    "print(compactOverpassQLstring)"
   ]
  },
  {
   "cell_type": "markdown",
   "metadata": {},
   "source": [
    "#### Test query\n",
    "![](../assets/overpass-result-fuel-stations.png)"
   ]
  },
  {
   "cell_type": "markdown",
   "metadata": {},
   "source": [
    "#### Get query results and insert into dataframe"
   ]
  },
  {
   "cell_type": "code",
   "execution_count": 42,
   "metadata": {},
   "outputs": [
    {
     "data": {
      "text/html": [
       "<div>\n",
       "<style scoped>\n",
       "    .dataframe tbody tr th:only-of-type {\n",
       "        vertical-align: middle;\n",
       "    }\n",
       "\n",
       "    .dataframe tbody tr th {\n",
       "        vertical-align: top;\n",
       "    }\n",
       "\n",
       "    .dataframe thead th {\n",
       "        text-align: right;\n",
       "    }\n",
       "</style>\n",
       "<table border=\"1\" class=\"dataframe\">\n",
       "  <thead>\n",
       "    <tr style=\"text-align: right;\">\n",
       "      <th></th>\n",
       "      <th>type</th>\n",
       "      <th>id</th>\n",
       "      <th>lat</th>\n",
       "      <th>lon</th>\n",
       "      <th>tags</th>\n",
       "    </tr>\n",
       "  </thead>\n",
       "  <tbody>\n",
       "    <tr>\n",
       "      <td>0</td>\n",
       "      <td>node</td>\n",
       "      <td>203840709</td>\n",
       "      <td>-41.175811</td>\n",
       "      <td>174.825616</td>\n",
       "      <td>{'amenity': 'fuel'}</td>\n",
       "    </tr>\n",
       "    <tr>\n",
       "      <td>1</td>\n",
       "      <td>node</td>\n",
       "      <td>206201048</td>\n",
       "      <td>-41.222137</td>\n",
       "      <td>174.807039</td>\n",
       "      <td>{'amenity': 'fuel', 'brand': 'Mobil', 'name': ...</td>\n",
       "    </tr>\n",
       "    <tr>\n",
       "      <td>2</td>\n",
       "      <td>node</td>\n",
       "      <td>206201049</td>\n",
       "      <td>-41.225857</td>\n",
       "      <td>174.807492</td>\n",
       "      <td>{'amenity': 'fuel', 'brand': 'BP', 'fuel:diese...</td>\n",
       "    </tr>\n",
       "    <tr>\n",
       "      <td>3</td>\n",
       "      <td>node</td>\n",
       "      <td>300202137</td>\n",
       "      <td>-41.306680</td>\n",
       "      <td>174.763337</td>\n",
       "      <td>{'amenity': 'fuel', 'operator': 'Caltex'}</td>\n",
       "    </tr>\n",
       "    <tr>\n",
       "      <td>4</td>\n",
       "      <td>node</td>\n",
       "      <td>307348809</td>\n",
       "      <td>-41.232089</td>\n",
       "      <td>174.837406</td>\n",
       "      <td>{'amenity': 'fuel', 'brand': 'BP', 'fuel:HGV_d...</td>\n",
       "    </tr>\n",
       "  </tbody>\n",
       "</table>\n",
       "</div>"
      ],
      "text/plain": [
       "   type         id        lat         lon  \\\n",
       "0  node  203840709 -41.175811  174.825616   \n",
       "1  node  206201048 -41.222137  174.807039   \n",
       "2  node  206201049 -41.225857  174.807492   \n",
       "3  node  300202137 -41.306680  174.763337   \n",
       "4  node  307348809 -41.232089  174.837406   \n",
       "\n",
       "                                                tags  \n",
       "0                                {'amenity': 'fuel'}  \n",
       "1  {'amenity': 'fuel', 'brand': 'Mobil', 'name': ...  \n",
       "2  {'amenity': 'fuel', 'brand': 'BP', 'fuel:diese...  \n",
       "3          {'amenity': 'fuel', 'operator': 'Caltex'}  \n",
       "4  {'amenity': 'fuel', 'brand': 'BP', 'fuel:HGV_d...  "
      ]
     },
     "execution_count": 42,
     "metadata": {},
     "output_type": "execute_result"
    }
   ],
   "source": [
    "# Request data from Overpass\n",
    "osmrequest = {'data': compactOverpassQLstring}\n",
    "osmurl = 'http://overpass-api.de/api/interpreter'\n",
    "\n",
    "# Ask the API\n",
    "osm = requests.get(osmurl, params=osmrequest)\n",
    "\n",
    "# Convert the results to JSON and get the requested data from the 'elements' key\n",
    "# The other keys in osm.json() are metadata guff like 'generator', 'version' of API etc. \n",
    "osmdata = osm.json()\n",
    "osmdata = osmdata['elements']\n",
    "\n",
    "# Convert to dataframe\n",
    "osm_df = pd.DataFrame(osmdata)\n",
    "osm_df.head()"
   ]
  },
  {
   "cell_type": "markdown",
   "metadata": {},
   "source": [
    "Need to extract the nested JSON inside the 'tags' column before producing the results dataframe"
   ]
  },
  {
   "cell_type": "code",
   "execution_count": null,
   "metadata": {},
   "outputs": [],
   "source": [
    "# Convert JSON output to pandas dataframe\n",
    "for dct in osmdata:\n",
    "    if 'tags' in dct:\n",
    "        for key, val in dct['tags'].items():\n",
    "            dct[key] = val\n",
    "        del dct['tags']\n",
    "    else:\n",
    "        pass\n",
    "osm_df = pd.DataFrame(osmdata)"
   ]
  },
  {
   "cell_type": "markdown",
   "metadata": {},
   "source": [
    "Due to the hodgepodge nature of associated metadata in OSM, we get a very wide dataframe. But, that's fine since we mainly care about the fuel station brand, name and location. "
   ]
  },
  {
   "cell_type": "code",
   "execution_count": 39,
   "metadata": {},
   "outputs": [
    {
     "data": {
      "text/html": [
       "<div>\n",
       "<style scoped>\n",
       "    .dataframe tbody tr th:only-of-type {\n",
       "        vertical-align: middle;\n",
       "    }\n",
       "\n",
       "    .dataframe tbody tr th {\n",
       "        vertical-align: top;\n",
       "    }\n",
       "\n",
       "    .dataframe thead th {\n",
       "        text-align: right;\n",
       "    }\n",
       "</style>\n",
       "<table border=\"1\" class=\"dataframe\">\n",
       "  <thead>\n",
       "    <tr style=\"text-align: right;\">\n",
       "      <th></th>\n",
       "      <th>type</th>\n",
       "      <th>id</th>\n",
       "      <th>lat</th>\n",
       "      <th>lon</th>\n",
       "      <th>amenity</th>\n",
       "      <th>brand</th>\n",
       "      <th>name</th>\n",
       "      <th>fuel:diesel</th>\n",
       "      <th>fuel:lpg</th>\n",
       "      <th>fuel:octane_91</th>\n",
       "      <th>...</th>\n",
       "      <th>wheelchair</th>\n",
       "      <th>diesel</th>\n",
       "      <th>addr:housenumber</th>\n",
       "      <th>addr:postcode</th>\n",
       "      <th>addr:street</th>\n",
       "      <th>opening_hours</th>\n",
       "      <th>addr:suburb</th>\n",
       "      <th>amenity_1</th>\n",
       "      <th>fuel:electric</th>\n",
       "      <th>ref:linz:address_id</th>\n",
       "    </tr>\n",
       "  </thead>\n",
       "  <tbody>\n",
       "    <tr>\n",
       "      <td>0</td>\n",
       "      <td>node</td>\n",
       "      <td>203840709</td>\n",
       "      <td>-41.175811</td>\n",
       "      <td>174.825616</td>\n",
       "      <td>fuel</td>\n",
       "      <td>NaN</td>\n",
       "      <td>NaN</td>\n",
       "      <td>NaN</td>\n",
       "      <td>NaN</td>\n",
       "      <td>NaN</td>\n",
       "      <td>...</td>\n",
       "      <td>NaN</td>\n",
       "      <td>NaN</td>\n",
       "      <td>NaN</td>\n",
       "      <td>NaN</td>\n",
       "      <td>NaN</td>\n",
       "      <td>NaN</td>\n",
       "      <td>NaN</td>\n",
       "      <td>NaN</td>\n",
       "      <td>NaN</td>\n",
       "      <td>NaN</td>\n",
       "    </tr>\n",
       "    <tr>\n",
       "      <td>1</td>\n",
       "      <td>node</td>\n",
       "      <td>206201048</td>\n",
       "      <td>-41.222137</td>\n",
       "      <td>174.807039</td>\n",
       "      <td>fuel</td>\n",
       "      <td>Mobil</td>\n",
       "      <td>Mobil Johnsonville</td>\n",
       "      <td>NaN</td>\n",
       "      <td>NaN</td>\n",
       "      <td>NaN</td>\n",
       "      <td>...</td>\n",
       "      <td>NaN</td>\n",
       "      <td>NaN</td>\n",
       "      <td>NaN</td>\n",
       "      <td>NaN</td>\n",
       "      <td>NaN</td>\n",
       "      <td>NaN</td>\n",
       "      <td>NaN</td>\n",
       "      <td>NaN</td>\n",
       "      <td>NaN</td>\n",
       "      <td>NaN</td>\n",
       "    </tr>\n",
       "    <tr>\n",
       "      <td>2</td>\n",
       "      <td>node</td>\n",
       "      <td>206201049</td>\n",
       "      <td>-41.225857</td>\n",
       "      <td>174.807492</td>\n",
       "      <td>fuel</td>\n",
       "      <td>BP</td>\n",
       "      <td>BP Johnsonville</td>\n",
       "      <td>yes</td>\n",
       "      <td>yes</td>\n",
       "      <td>yes</td>\n",
       "      <td>...</td>\n",
       "      <td>NaN</td>\n",
       "      <td>NaN</td>\n",
       "      <td>NaN</td>\n",
       "      <td>NaN</td>\n",
       "      <td>NaN</td>\n",
       "      <td>NaN</td>\n",
       "      <td>NaN</td>\n",
       "      <td>NaN</td>\n",
       "      <td>NaN</td>\n",
       "      <td>NaN</td>\n",
       "    </tr>\n",
       "    <tr>\n",
       "      <td>3</td>\n",
       "      <td>node</td>\n",
       "      <td>300202137</td>\n",
       "      <td>-41.306680</td>\n",
       "      <td>174.763337</td>\n",
       "      <td>fuel</td>\n",
       "      <td>NaN</td>\n",
       "      <td>NaN</td>\n",
       "      <td>NaN</td>\n",
       "      <td>NaN</td>\n",
       "      <td>NaN</td>\n",
       "      <td>...</td>\n",
       "      <td>NaN</td>\n",
       "      <td>NaN</td>\n",
       "      <td>NaN</td>\n",
       "      <td>NaN</td>\n",
       "      <td>NaN</td>\n",
       "      <td>NaN</td>\n",
       "      <td>NaN</td>\n",
       "      <td>NaN</td>\n",
       "      <td>NaN</td>\n",
       "      <td>NaN</td>\n",
       "    </tr>\n",
       "    <tr>\n",
       "      <td>4</td>\n",
       "      <td>node</td>\n",
       "      <td>307348809</td>\n",
       "      <td>-41.232089</td>\n",
       "      <td>174.837406</td>\n",
       "      <td>fuel</td>\n",
       "      <td>BP</td>\n",
       "      <td>BP Hutt Road</td>\n",
       "      <td>yes</td>\n",
       "      <td>NaN</td>\n",
       "      <td>yes</td>\n",
       "      <td>...</td>\n",
       "      <td>NaN</td>\n",
       "      <td>NaN</td>\n",
       "      <td>NaN</td>\n",
       "      <td>NaN</td>\n",
       "      <td>NaN</td>\n",
       "      <td>NaN</td>\n",
       "      <td>NaN</td>\n",
       "      <td>NaN</td>\n",
       "      <td>NaN</td>\n",
       "      <td>NaN</td>\n",
       "    </tr>\n",
       "  </tbody>\n",
       "</table>\n",
       "<p>5 rows × 25 columns</p>\n",
       "</div>"
      ],
      "text/plain": [
       "   type         id        lat         lon amenity  brand                name  \\\n",
       "0  node  203840709 -41.175811  174.825616    fuel    NaN                 NaN   \n",
       "1  node  206201048 -41.222137  174.807039    fuel  Mobil  Mobil Johnsonville   \n",
       "2  node  206201049 -41.225857  174.807492    fuel     BP     BP Johnsonville   \n",
       "3  node  300202137 -41.306680  174.763337    fuel    NaN                 NaN   \n",
       "4  node  307348809 -41.232089  174.837406    fuel     BP        BP Hutt Road   \n",
       "\n",
       "  fuel:diesel fuel:lpg fuel:octane_91  ... wheelchair diesel addr:housenumber  \\\n",
       "0         NaN      NaN            NaN  ...        NaN    NaN              NaN   \n",
       "1         NaN      NaN            NaN  ...        NaN    NaN              NaN   \n",
       "2         yes      yes            yes  ...        NaN    NaN              NaN   \n",
       "3         NaN      NaN            NaN  ...        NaN    NaN              NaN   \n",
       "4         yes      NaN            yes  ...        NaN    NaN              NaN   \n",
       "\n",
       "  addr:postcode addr:street opening_hours addr:suburb amenity_1 fuel:electric  \\\n",
       "0           NaN         NaN           NaN         NaN       NaN           NaN   \n",
       "1           NaN         NaN           NaN         NaN       NaN           NaN   \n",
       "2           NaN         NaN           NaN         NaN       NaN           NaN   \n",
       "3           NaN         NaN           NaN         NaN       NaN           NaN   \n",
       "4           NaN         NaN           NaN         NaN       NaN           NaN   \n",
       "\n",
       "  ref:linz:address_id  \n",
       "0                 NaN  \n",
       "1                 NaN  \n",
       "2                 NaN  \n",
       "3                 NaN  \n",
       "4                 NaN  \n",
       "\n",
       "[5 rows x 25 columns]"
      ]
     },
     "execution_count": 39,
     "metadata": {},
     "output_type": "execute_result"
    }
   ],
   "source": [
    "osm_df.head()"
   ]
  },
  {
   "cell_type": "markdown",
   "metadata": {},
   "source": [
    "#### Exercise\n",
    "- Put Overpass API query construction in function\n",
    "- Use function to get an amenity in an area of your choice"
   ]
  },
  {
   "cell_type": "markdown",
   "metadata": {},
   "source": [
    "### Osmnx"
   ]
  },
  {
   "cell_type": "code",
   "execution_count": 4,
   "metadata": {},
   "outputs": [
    {
     "data": {
      "text/html": [
       "<style>\n",
       "    @font-face {\n",
       "        font-family: \"Computer Modern\";\n",
       "        src: url('http://9dbb143991406a7c655e-aa5fcb0a5a4ec34cff238a2d56ca4144.r56.cf5.rackcdn.com/cmunss.otf');\n",
       "    }\n",
       "    @font-face {\n",
       "        font-family: \"Computer Modern\";\n",
       "        font-weight: bold;\n",
       "        src: url('http://9dbb143991406a7c655e-aa5fcb0a5a4ec34cff238a2d56ca4144.r56.cf5.rackcdn.com/cmunsx.otf');\n",
       "    }\n",
       "    @font-face {\n",
       "        font-family: \"Computer Modern\";\n",
       "        font-style: oblique;\n",
       "        src: url('http://9dbb143991406a7c655e-aa5fcb0a5a4ec34cff238a2d56ca4144.r56.cf5.rackcdn.com/cmunsi.otf');\n",
       "    }\n",
       "    @font-face {\n",
       "        font-family: \"Computer Modern\";\n",
       "        font-weight: bold;\n",
       "        font-style: oblique;\n",
       "        src: url('http://9dbb143991406a7c655e-aa5fcb0a5a4ec34cff238a2d56ca4144.r56.cf5.rackcdn.com/cmunso.otf');\n",
       "    }\n",
       "    div.cell{\n",
       "        width:800px;\n",
       "        margin-left:16% !important;\n",
       "        margin-right:auto;\n",
       "    }\n",
       "    h1 {\n",
       "        font-family: Helvetica, serif;\n",
       "    }\n",
       "    h4{\n",
       "        margin-top:12px;\n",
       "        margin-bottom: 3px;\n",
       "       }\n",
       "\n",
       "    ul li {\n",
       "        color:#e69138;\n",
       "       }\n",
       "    ul li li {\n",
       "        color: #646464;\n",
       "       }\n",
       "    div.text_cell_render{\n",
       "        font-family: Computer Modern, \"Helvetica Neue\", Arial, Helvetica, Geneva, sans-serif;\n",
       "        line-height: 145%;\n",
       "        font-size: 130%;\n",
       "        width:800px;\n",
       "        color:#646464;\n",
       "        margin-left:auto;\n",
       "        margin-right:auto;\n",
       "    }\n",
       "    .CodeMirror{\n",
       "            font-family: \"Source Code Pro\",\n",
       "            source-code-pro,Consolas, monospace;\n",
       "    }\n",
       "   .prompt{\n",
       "            display: None;\n",
       "        }\n",
       "    .text_cell_render h1 {\n",
       "        font-weight: 200;\n",
       "        font-size: 40pt;\n",
       "    line-height: 100%;\n",
       "        color:#45818e;\n",
       "        margin-bottom: 0.5em;\n",
       "        margin-top: 0.5em;\n",
       "        display: block;\n",
       "        }\n",
       "    .text_cell_render h2 {\n",
       "        font-weight: 300;\n",
       "        font-size: 30pt;\n",
       "        color: #45818e;\n",
       "        margin-bottom: .5em;\n",
       "        margin-top: 0.5em;\n",
       "        display: block;\n",
       "    }\n",
       "    .text_cell_render h3 {\n",
       "        font-weight: 300;\n",
       "        font-size: 25pt;\n",
       "        color: #45818e;\n",
       "        margin-bottom: .5em;\n",
       "        margin-top: 0.5em;\n",
       "        display: block;\n",
       "    }\n",
       "    .text_cell_render h4 {\n",
       "        font-weight: 300;\n",
       "        font-size: 20pt;\n",
       "        color: #45818e;\n",
       "        margin-bottom: .5em;\n",
       "        margin-top: 0.5em;\n",
       "        display: block;\n",
       "    }\n",
       "    .text_cell_render h5 {\n",
       "        font-weight: 300;\n",
       "        font-size: 16pt;\n",
       "        color: #45818e;\n",
       "        margin-bottom: .5em;\n",
       "        margin-top: 0.5em;\n",
       "        display: block;\n",
       "    }\n",
       "\n",
       "    .warning{\n",
       "        color: rgb( 240, 20, 20 )\n",
       "        }\n",
       "</style>\n",
       "<script>\n",
       "    MathJax.Hub.Config({\n",
       "                        TeX: {\n",
       "                           extensions: [\"AMSmath.js\"]\n",
       "                           },\n",
       "                tex2jax: {\n",
       "                    inlineMath: [ ['$','$'], [\"\\\\(\",\"\\\\)\"] ],\n",
       "                    displayMath: [ ['$$','$$'], [\"\\\\[\",\"\\\\]\"] ]\n",
       "                },\n",
       "                displayAlign: 'center', // Change this to 'center' to center equations.\n",
       "                \"HTML-CSS\": {\n",
       "                    styles: {'.MathJax_Display': {\"margin\": 4}}\n",
       "                }\n",
       "        });\n",
       "</script>\n"
      ],
      "text/plain": [
       "<IPython.core.display.HTML object>"
      ]
     },
     "execution_count": 4,
     "metadata": {},
     "output_type": "execute_result"
    }
   ],
   "source": [
    "from IPython.core.display import HTML\n",
    "def css_styling():\n",
    "    styles = open(\"../styles/custom.css\", \"r\").read()\n",
    "    return HTML(styles)\n",
    "css_styling()\n",
    "\n"
   ]
  },
  {
   "cell_type": "code",
   "execution_count": null,
   "metadata": {},
   "outputs": [],
   "source": []
  }
 ],
 "metadata": {
  "kernelspec": {
   "display_name": "Python 3",
   "language": "python",
   "name": "python3"
  },
  "language_info": {
   "codemirror_mode": {
    "name": "ipython",
    "version": 3
   },
   "file_extension": ".py",
   "mimetype": "text/x-python",
   "name": "python",
   "nbconvert_exporter": "python",
   "pygments_lexer": "ipython3",
   "version": "3.6.7"
  },
  "toc": {
   "nav_menu": {
    "height": "148px",
    "width": "250px"
   },
   "number_sections": true,
   "sideBar": true,
   "skip_h1_title": false,
   "title_cell": "Table of Contents",
   "title_sidebar": "Contents",
   "toc_cell": false,
   "toc_position": {
    "height": "calc(100% - 180px)",
    "left": "10px",
    "top": "150px",
    "width": "235.833px"
   },
   "toc_section_display": true,
   "toc_window_display": true
  }
 },
 "nbformat": 4,
 "nbformat_minor": 2
}
